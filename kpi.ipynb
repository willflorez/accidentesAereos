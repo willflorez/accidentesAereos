{
 "cells": [
  {
   "cell_type": "code",
   "execution_count": 1,
   "metadata": {},
   "outputs": [],
   "source": [
    "import pandas as pd\n",
    "import numpy as np"
   ]
  },
  {
   "cell_type": "markdown",
   "metadata": {},
   "source": [
    "EN ESTE NOTEBOOK SE CREAN LAS COLUMNAS NECESARIAS PARA LOS KPI´S QUE SE LLEVARAN A POWER BI"
   ]
  },
  {
   "cell_type": "code",
   "execution_count": 2,
   "metadata": {},
   "outputs": [
    {
     "data": {
      "text/plain": [
       "(4993, 20)"
      ]
     },
     "execution_count": 2,
     "metadata": {},
     "output_type": "execute_result"
    }
   ],
   "source": [
    "aa = pd.read_csv('aa.csv')\n",
    "aa.shape"
   ]
  },
  {
   "cell_type": "code",
   "execution_count": 106,
   "metadata": {},
   "outputs": [
    {
     "data": {
      "text/html": [
       "<div>\n",
       "<style scoped>\n",
       "    .dataframe tbody tr th:only-of-type {\n",
       "        vertical-align: middle;\n",
       "    }\n",
       "\n",
       "    .dataframe tbody tr th {\n",
       "        vertical-align: top;\n",
       "    }\n",
       "\n",
       "    .dataframe thead th {\n",
       "        text-align: right;\n",
       "    }\n",
       "</style>\n",
       "<table border=\"1\" class=\"dataframe\">\n",
       "  <thead>\n",
       "    <tr style=\"text-align: right;\">\n",
       "      <th></th>\n",
       "      <th>country</th>\n",
       "      <th>operator</th>\n",
       "      <th>route</th>\n",
       "      <th>aircraft</th>\n",
       "      <th>all_aboard</th>\n",
       "      <th>passengers_on_board</th>\n",
       "      <th>crew_aboard</th>\n",
       "      <th>number_of_deaths</th>\n",
       "      <th>passenger_fatalities</th>\n",
       "      <th>crew_fatalities</th>\n",
       "      <th>ground</th>\n",
       "      <th>year</th>\n",
       "      <th>decade</th>\n",
       "      <th>AM_PM</th>\n",
       "    </tr>\n",
       "  </thead>\n",
       "  <tbody>\n",
       "    <tr>\n",
       "      <th>0</th>\n",
       "      <td>EEUU</td>\n",
       "      <td>Military - U.S. Army</td>\n",
       "      <td>Demonstration</td>\n",
       "      <td>Others</td>\n",
       "      <td>2.0</td>\n",
       "      <td>1.0</td>\n",
       "      <td>1.0</td>\n",
       "      <td>1</td>\n",
       "      <td>1.0</td>\n",
       "      <td>0.0</td>\n",
       "      <td>0.0</td>\n",
       "      <td>1908</td>\n",
       "      <td>1</td>\n",
       "      <td>PM</td>\n",
       "    </tr>\n",
       "  </tbody>\n",
       "</table>\n",
       "</div>"
      ],
      "text/plain": [
       "  country              operator          route aircraft  all_aboard  \\\n",
       "0    EEUU  Military - U.S. Army  Demonstration   Others         2.0   \n",
       "\n",
       "   passengers_on_board  crew_aboard  number_of_deaths  passenger_fatalities  \\\n",
       "0                  1.0          1.0                 1                   1.0   \n",
       "\n",
       "   crew_fatalities  ground  year  decade AM_PM  \n",
       "0              0.0     0.0  1908       1    PM  "
      ]
     },
     "execution_count": 106,
     "metadata": {},
     "output_type": "execute_result"
    }
   ],
   "source": [
    "aa.head(1)"
   ]
  },
  {
   "cell_type": "code",
   "execution_count": 110,
   "metadata": {},
   "outputs": [
    {
     "data": {
      "text/html": [
       "<div>\n",
       "<style scoped>\n",
       "    .dataframe tbody tr th:only-of-type {\n",
       "        vertical-align: middle;\n",
       "    }\n",
       "\n",
       "    .dataframe tbody tr th {\n",
       "        vertical-align: top;\n",
       "    }\n",
       "\n",
       "    .dataframe thead th {\n",
       "        text-align: right;\n",
       "    }\n",
       "</style>\n",
       "<table border=\"1\" class=\"dataframe\">\n",
       "  <thead>\n",
       "    <tr style=\"text-align: right;\">\n",
       "      <th></th>\n",
       "      <th>country</th>\n",
       "      <th>operator</th>\n",
       "      <th>route</th>\n",
       "      <th>aircraft</th>\n",
       "      <th>all_aboard</th>\n",
       "      <th>passengers_on_board</th>\n",
       "      <th>crew_aboard</th>\n",
       "      <th>number_of_deaths</th>\n",
       "      <th>passenger_fatalities</th>\n",
       "      <th>crew_fatalities</th>\n",
       "      <th>ground</th>\n",
       "      <th>year</th>\n",
       "      <th>decade</th>\n",
       "      <th>AM_PM</th>\n",
       "      <th>crew_fatalities_decade</th>\n",
       "    </tr>\n",
       "  </thead>\n",
       "  <tbody>\n",
       "    <tr>\n",
       "      <th>0</th>\n",
       "      <td>EEUU</td>\n",
       "      <td>Military - U.S. Army</td>\n",
       "      <td>Demonstration</td>\n",
       "      <td>Others</td>\n",
       "      <td>2.0</td>\n",
       "      <td>1.0</td>\n",
       "      <td>1.0</td>\n",
       "      <td>1</td>\n",
       "      <td>1.0</td>\n",
       "      <td>0.0</td>\n",
       "      <td>0.0</td>\n",
       "      <td>1908</td>\n",
       "      <td>1</td>\n",
       "      <td>PM</td>\n",
       "      <td>84.0</td>\n",
       "    </tr>\n",
       "    <tr>\n",
       "      <th>1</th>\n",
       "      <td>France</td>\n",
       "      <td>Sin_Dato</td>\n",
       "      <td>Air show</td>\n",
       "      <td>Others</td>\n",
       "      <td>1.0</td>\n",
       "      <td>0.0</td>\n",
       "      <td>1.0</td>\n",
       "      <td>1</td>\n",
       "      <td>0.0</td>\n",
       "      <td>0.0</td>\n",
       "      <td>0.0</td>\n",
       "      <td>1909</td>\n",
       "      <td>1</td>\n",
       "      <td>AM</td>\n",
       "      <td>84.0</td>\n",
       "    </tr>\n",
       "  </tbody>\n",
       "</table>\n",
       "</div>"
      ],
      "text/plain": [
       "  country              operator          route aircraft  all_aboard  \\\n",
       "0    EEUU  Military - U.S. Army  Demonstration   Others         2.0   \n",
       "1  France              Sin_Dato       Air show   Others         1.0   \n",
       "\n",
       "   passengers_on_board  crew_aboard  number_of_deaths  passenger_fatalities  \\\n",
       "0                  1.0          1.0                 1                   1.0   \n",
       "1                  0.0          1.0                 1                   0.0   \n",
       "\n",
       "   crew_fatalities  ground  year  decade AM_PM  crew_fatalities_decade  \n",
       "0              0.0     0.0  1908       1    PM                    84.0  \n",
       "1              0.0     0.0  1909       1    AM                    84.0  "
      ]
     },
     "execution_count": 110,
     "metadata": {},
     "output_type": "execute_result"
    }
   ],
   "source": [
    "aa['crew_fatalities_decade'] = aa.groupby('decade')['crew_fatalities'].transform('sum')\n",
    "aa.head(2)"
   ]
  },
  {
   "cell_type": "code",
   "execution_count": 111,
   "metadata": {},
   "outputs": [
    {
     "data": {
      "text/html": [
       "<div>\n",
       "<style scoped>\n",
       "    .dataframe tbody tr th:only-of-type {\n",
       "        vertical-align: middle;\n",
       "    }\n",
       "\n",
       "    .dataframe tbody tr th {\n",
       "        vertical-align: top;\n",
       "    }\n",
       "\n",
       "    .dataframe thead th {\n",
       "        text-align: right;\n",
       "    }\n",
       "</style>\n",
       "<table border=\"1\" class=\"dataframe\">\n",
       "  <thead>\n",
       "    <tr style=\"text-align: right;\">\n",
       "      <th></th>\n",
       "      <th>country</th>\n",
       "      <th>operator</th>\n",
       "      <th>route</th>\n",
       "      <th>aircraft</th>\n",
       "      <th>all_aboard</th>\n",
       "      <th>passengers_on_board</th>\n",
       "      <th>crew_aboard</th>\n",
       "      <th>number_of_deaths</th>\n",
       "      <th>passenger_fatalities</th>\n",
       "      <th>crew_fatalities</th>\n",
       "      <th>ground</th>\n",
       "      <th>year</th>\n",
       "      <th>decade</th>\n",
       "      <th>AM_PM</th>\n",
       "      <th>crew_fatalities_decade</th>\n",
       "    </tr>\n",
       "  </thead>\n",
       "  <tbody>\n",
       "    <tr>\n",
       "      <th>4990</th>\n",
       "      <td>Others</td>\n",
       "      <td>Military - Nigerian Air Force</td>\n",
       "      <td>Sin_Dato</td>\n",
       "      <td>Others</td>\n",
       "      <td>11.0</td>\n",
       "      <td>7.0</td>\n",
       "      <td>4.0</td>\n",
       "      <td>11</td>\n",
       "      <td>7.0</td>\n",
       "      <td>4.0</td>\n",
       "      <td>0.0</td>\n",
       "      <td>2021</td>\n",
       "      <td>12</td>\n",
       "      <td>AM</td>\n",
       "      <td>190.0</td>\n",
       "    </tr>\n",
       "    <tr>\n",
       "      <th>4991</th>\n",
       "      <td>Others</td>\n",
       "      <td>Military - Myanmar Air Force</td>\n",
       "      <td>Naypyidaw - Anisakan</td>\n",
       "      <td>Beechcraft 1900D</td>\n",
       "      <td>14.0</td>\n",
       "      <td>12.0</td>\n",
       "      <td>2.0</td>\n",
       "      <td>12</td>\n",
       "      <td>11.0</td>\n",
       "      <td>1.0</td>\n",
       "      <td>0.0</td>\n",
       "      <td>2021</td>\n",
       "      <td>12</td>\n",
       "      <td>AM</td>\n",
       "      <td>190.0</td>\n",
       "    </tr>\n",
       "    <tr>\n",
       "      <th>4992</th>\n",
       "      <td>Russia</td>\n",
       "      <td>Others</td>\n",
       "      <td>Petropavlovsk - Palana</td>\n",
       "      <td>Antonov</td>\n",
       "      <td>28.0</td>\n",
       "      <td>22.0</td>\n",
       "      <td>6.0</td>\n",
       "      <td>28</td>\n",
       "      <td>22.0</td>\n",
       "      <td>6.0</td>\n",
       "      <td>0.0</td>\n",
       "      <td>2021</td>\n",
       "      <td>12</td>\n",
       "      <td>AM</td>\n",
       "      <td>190.0</td>\n",
       "    </tr>\n",
       "  </tbody>\n",
       "</table>\n",
       "</div>"
      ],
      "text/plain": [
       "     country                       operator                   route  \\\n",
       "4990  Others  Military - Nigerian Air Force                Sin_Dato   \n",
       "4991  Others   Military - Myanmar Air Force    Naypyidaw - Anisakan   \n",
       "4992  Russia                         Others  Petropavlovsk - Palana   \n",
       "\n",
       "              aircraft  all_aboard  passengers_on_board  crew_aboard  \\\n",
       "4990            Others        11.0                  7.0          4.0   \n",
       "4991  Beechcraft 1900D        14.0                 12.0          2.0   \n",
       "4992           Antonov        28.0                 22.0          6.0   \n",
       "\n",
       "      number_of_deaths  passenger_fatalities  crew_fatalities  ground  year  \\\n",
       "4990                11                   7.0              4.0     0.0  2021   \n",
       "4991                12                  11.0              1.0     0.0  2021   \n",
       "4992                28                  22.0              6.0     0.0  2021   \n",
       "\n",
       "      decade AM_PM  crew_fatalities_decade  \n",
       "4990      12    AM                   190.0  \n",
       "4991      12    AM                   190.0  \n",
       "4992      12    AM                   190.0  "
      ]
     },
     "execution_count": 111,
     "metadata": {},
     "output_type": "execute_result"
    }
   ],
   "source": [
    "aa.tail(3)"
   ]
  },
  {
   "cell_type": "code",
   "execution_count": 131,
   "metadata": {},
   "outputs": [
    {
     "data": {
      "text/plain": [
       "decade\n",
       "5     658\n",
       "9     655\n",
       "6     645\n",
       "7     635\n",
       "10    531\n",
       "4     518\n",
       "8     516\n",
       "3     346\n",
       "11    303\n",
       "2     119\n",
       "12     47\n",
       "1      20\n",
       "Name: count, dtype: int64"
      ]
     },
     "execution_count": 131,
     "metadata": {},
     "output_type": "execute_result"
    }
   ],
   "source": [
    "aa['decade'].value_counts()"
   ]
  },
  {
   "cell_type": "markdown",
   "metadata": {},
   "source": [
    "CREACION DE LA COLUMNA TASA DE TRIPULANTES FALLECIDOS CLAVE PARA KPI INDICADO"
   ]
  },
  {
   "cell_type": "code",
   "execution_count": 3,
   "metadata": {},
   "outputs": [
    {
     "data": {
      "text/html": [
       "<div>\n",
       "<style scoped>\n",
       "    .dataframe tbody tr th:only-of-type {\n",
       "        vertical-align: middle;\n",
       "    }\n",
       "\n",
       "    .dataframe tbody tr th {\n",
       "        vertical-align: top;\n",
       "    }\n",
       "\n",
       "    .dataframe thead th {\n",
       "        text-align: right;\n",
       "    }\n",
       "</style>\n",
       "<table border=\"1\" class=\"dataframe\">\n",
       "  <thead>\n",
       "    <tr style=\"text-align: right;\">\n",
       "      <th></th>\n",
       "      <th>country</th>\n",
       "      <th>operator</th>\n",
       "      <th>route</th>\n",
       "      <th>aircraft</th>\n",
       "      <th>all_aboard</th>\n",
       "      <th>passengers_on_board</th>\n",
       "      <th>crew_aboard</th>\n",
       "      <th>number_of_deaths</th>\n",
       "      <th>passenger_fatalities</th>\n",
       "      <th>crew_fatalities</th>\n",
       "      <th>...</th>\n",
       "      <th>year</th>\n",
       "      <th>decade</th>\n",
       "      <th>AM_PM</th>\n",
       "      <th>crew_fatalities_decade</th>\n",
       "      <th>crew_fatality_rate</th>\n",
       "      <th>total_accidents</th>\n",
       "      <th>passenger_fatalities_decade</th>\n",
       "      <th>deaths_of_decade</th>\n",
       "      <th>passenger_fatality_rate</th>\n",
       "      <th>count</th>\n",
       "    </tr>\n",
       "  </thead>\n",
       "  <tbody>\n",
       "    <tr>\n",
       "      <th>0</th>\n",
       "      <td>EEUU</td>\n",
       "      <td>Military - U.S. Army</td>\n",
       "      <td>Demonstration</td>\n",
       "      <td>Others</td>\n",
       "      <td>2</td>\n",
       "      <td>1</td>\n",
       "      <td>1</td>\n",
       "      <td>1</td>\n",
       "      <td>1</td>\n",
       "      <td>0</td>\n",
       "      <td>...</td>\n",
       "      <td>1908</td>\n",
       "      <td>1</td>\n",
       "      <td>PM</td>\n",
       "      <td>84</td>\n",
       "      <td>4.2</td>\n",
       "      <td>20</td>\n",
       "      <td>99</td>\n",
       "      <td>332</td>\n",
       "      <td>0.2</td>\n",
       "      <td>20</td>\n",
       "    </tr>\n",
       "  </tbody>\n",
       "</table>\n",
       "<p>1 rows × 21 columns</p>\n",
       "</div>"
      ],
      "text/plain": [
       "  country              operator          route aircraft  all_aboard  \\\n",
       "0    EEUU  Military - U.S. Army  Demonstration   Others           2   \n",
       "\n",
       "   passengers_on_board  crew_aboard  number_of_deaths  passenger_fatalities  \\\n",
       "0                    1            1                 1                     1   \n",
       "\n",
       "   crew_fatalities  ...  year  decade  AM_PM crew_fatalities_decade  \\\n",
       "0                0  ...  1908       1     PM                     84   \n",
       "\n",
       "   crew_fatality_rate  total_accidents  passenger_fatalities_decade  \\\n",
       "0                 4.2               20                           99   \n",
       "\n",
       "   deaths_of_decade  passenger_fatality_rate  count  \n",
       "0               332                      0.2     20  \n",
       "\n",
       "[1 rows x 21 columns]"
      ]
     },
     "execution_count": 3,
     "metadata": {},
     "output_type": "execute_result"
    }
   ],
   "source": [
    "decade_counts = aa['decade'].value_counts().reset_index()\n",
    "decade_counts.columns = ['decade', 'count']\n",
    "\n",
    "aa = aa.merge(decade_counts, on='decade', how='left')\n",
    "\n",
    "aa['crew_fatality_rate'] = aa['crew_fatalities_decade'] / aa['count']\n",
    "\n",
    "aa.head(1)"
   ]
  },
  {
   "cell_type": "code",
   "execution_count": 4,
   "metadata": {},
   "outputs": [
    {
     "data": {
      "text/plain": [
       "crew_fatality_rate\n",
       "3.831307    658\n",
       "3.447328    655\n",
       "4.201550    645\n",
       "4.072441    635\n",
       "3.354049    531\n",
       "3.391892    518\n",
       "3.755814    516\n",
       "1.916185    346\n",
       "3.521452    303\n",
       "1.899160    119\n",
       "4.042553     47\n",
       "4.200000     20\n",
       "Name: count, dtype: int64"
      ]
     },
     "execution_count": 4,
     "metadata": {},
     "output_type": "execute_result"
    }
   ],
   "source": [
    "aa['crew_fatality_rate'].value_counts()"
   ]
  },
  {
   "cell_type": "markdown",
   "metadata": {},
   "source": [
    "CREACION DE LA COLUMNA DE PASAJEROS FALLECIDOS POR DECADA"
   ]
  },
  {
   "cell_type": "code",
   "execution_count": 137,
   "metadata": {},
   "outputs": [
    {
     "data": {
      "text/html": [
       "<div>\n",
       "<style scoped>\n",
       "    .dataframe tbody tr th:only-of-type {\n",
       "        vertical-align: middle;\n",
       "    }\n",
       "\n",
       "    .dataframe tbody tr th {\n",
       "        vertical-align: top;\n",
       "    }\n",
       "\n",
       "    .dataframe thead th {\n",
       "        text-align: right;\n",
       "    }\n",
       "</style>\n",
       "<table border=\"1\" class=\"dataframe\">\n",
       "  <thead>\n",
       "    <tr style=\"text-align: right;\">\n",
       "      <th></th>\n",
       "      <th>country</th>\n",
       "      <th>operator</th>\n",
       "      <th>route</th>\n",
       "      <th>aircraft</th>\n",
       "      <th>all_aboard</th>\n",
       "      <th>passengers_on_board</th>\n",
       "      <th>crew_aboard</th>\n",
       "      <th>number_of_deaths</th>\n",
       "      <th>passenger_fatalities</th>\n",
       "      <th>crew_fatalities</th>\n",
       "      <th>ground</th>\n",
       "      <th>year</th>\n",
       "      <th>decade</th>\n",
       "      <th>AM_PM</th>\n",
       "      <th>crew_fatalities_decade</th>\n",
       "      <th>crew_fatality_rate</th>\n",
       "      <th>count</th>\n",
       "      <th>passenger_fatalities_decade</th>\n",
       "    </tr>\n",
       "  </thead>\n",
       "  <tbody>\n",
       "    <tr>\n",
       "      <th>0</th>\n",
       "      <td>EEUU</td>\n",
       "      <td>Military - U.S. Army</td>\n",
       "      <td>Demonstration</td>\n",
       "      <td>Others</td>\n",
       "      <td>2.0</td>\n",
       "      <td>1.0</td>\n",
       "      <td>1.0</td>\n",
       "      <td>1</td>\n",
       "      <td>1.0</td>\n",
       "      <td>0.0</td>\n",
       "      <td>0.0</td>\n",
       "      <td>1908</td>\n",
       "      <td>1</td>\n",
       "      <td>PM</td>\n",
       "      <td>84.0</td>\n",
       "      <td>0.238095</td>\n",
       "      <td>20</td>\n",
       "      <td>99.0</td>\n",
       "    </tr>\n",
       "    <tr>\n",
       "      <th>1</th>\n",
       "      <td>France</td>\n",
       "      <td>Sin_Dato</td>\n",
       "      <td>Air show</td>\n",
       "      <td>Others</td>\n",
       "      <td>1.0</td>\n",
       "      <td>0.0</td>\n",
       "      <td>1.0</td>\n",
       "      <td>1</td>\n",
       "      <td>0.0</td>\n",
       "      <td>0.0</td>\n",
       "      <td>0.0</td>\n",
       "      <td>1909</td>\n",
       "      <td>1</td>\n",
       "      <td>AM</td>\n",
       "      <td>84.0</td>\n",
       "      <td>0.238095</td>\n",
       "      <td>20</td>\n",
       "      <td>99.0</td>\n",
       "    </tr>\n",
       "  </tbody>\n",
       "</table>\n",
       "</div>"
      ],
      "text/plain": [
       "  country              operator          route aircraft  all_aboard  \\\n",
       "0    EEUU  Military - U.S. Army  Demonstration   Others         2.0   \n",
       "1  France              Sin_Dato       Air show   Others         1.0   \n",
       "\n",
       "   passengers_on_board  crew_aboard  number_of_deaths  passenger_fatalities  \\\n",
       "0                  1.0          1.0                 1                   1.0   \n",
       "1                  0.0          1.0                 1                   0.0   \n",
       "\n",
       "   crew_fatalities  ground  year  decade AM_PM  crew_fatalities_decade  \\\n",
       "0              0.0     0.0  1908       1    PM                    84.0   \n",
       "1              0.0     0.0  1909       1    AM                    84.0   \n",
       "\n",
       "   crew_fatality_rate  count  passenger_fatalities_decade  \n",
       "0            0.238095     20                         99.0  \n",
       "1            0.238095     20                         99.0  "
      ]
     },
     "execution_count": 137,
     "metadata": {},
     "output_type": "execute_result"
    }
   ],
   "source": [
    "aa['passenger_fatalities_decade'] = aa.groupby('decade')['passenger_fatalities'].transform('sum')\n",
    "aa.head(2)"
   ]
  },
  {
   "cell_type": "markdown",
   "metadata": {},
   "source": [
    "CREACION DE LA COLUMNA TASA DE PASAJEROS FALLECIDOS CLAVE PARA KPI PROPUESTO"
   ]
  },
  {
   "cell_type": "code",
   "execution_count": 5,
   "metadata": {},
   "outputs": [
    {
     "data": {
      "text/html": [
       "<div>\n",
       "<style scoped>\n",
       "    .dataframe tbody tr th:only-of-type {\n",
       "        vertical-align: middle;\n",
       "    }\n",
       "\n",
       "    .dataframe tbody tr th {\n",
       "        vertical-align: top;\n",
       "    }\n",
       "\n",
       "    .dataframe thead th {\n",
       "        text-align: right;\n",
       "    }\n",
       "</style>\n",
       "<table border=\"1\" class=\"dataframe\">\n",
       "  <thead>\n",
       "    <tr style=\"text-align: right;\">\n",
       "      <th></th>\n",
       "      <th>country</th>\n",
       "      <th>operator</th>\n",
       "      <th>route</th>\n",
       "      <th>aircraft</th>\n",
       "      <th>all_aboard</th>\n",
       "      <th>passengers_on_board</th>\n",
       "      <th>crew_aboard</th>\n",
       "      <th>number_of_deaths</th>\n",
       "      <th>passenger_fatalities</th>\n",
       "      <th>crew_fatalities</th>\n",
       "      <th>...</th>\n",
       "      <th>year</th>\n",
       "      <th>decade</th>\n",
       "      <th>AM_PM</th>\n",
       "      <th>crew_fatalities_decade</th>\n",
       "      <th>crew_fatality_rate</th>\n",
       "      <th>total_accidents</th>\n",
       "      <th>passenger_fatalities_decade</th>\n",
       "      <th>deaths_of_decade</th>\n",
       "      <th>passenger_fatality_rate</th>\n",
       "      <th>count</th>\n",
       "    </tr>\n",
       "  </thead>\n",
       "  <tbody>\n",
       "    <tr>\n",
       "      <th>0</th>\n",
       "      <td>EEUU</td>\n",
       "      <td>Military - U.S. Army</td>\n",
       "      <td>Demonstration</td>\n",
       "      <td>Others</td>\n",
       "      <td>2</td>\n",
       "      <td>1</td>\n",
       "      <td>1</td>\n",
       "      <td>1</td>\n",
       "      <td>1</td>\n",
       "      <td>0</td>\n",
       "      <td>...</td>\n",
       "      <td>1908</td>\n",
       "      <td>1</td>\n",
       "      <td>PM</td>\n",
       "      <td>84</td>\n",
       "      <td>4.2</td>\n",
       "      <td>20</td>\n",
       "      <td>99</td>\n",
       "      <td>332</td>\n",
       "      <td>4.95</td>\n",
       "      <td>20</td>\n",
       "    </tr>\n",
       "  </tbody>\n",
       "</table>\n",
       "<p>1 rows × 21 columns</p>\n",
       "</div>"
      ],
      "text/plain": [
       "  country              operator          route aircraft  all_aboard  \\\n",
       "0    EEUU  Military - U.S. Army  Demonstration   Others           2   \n",
       "\n",
       "   passengers_on_board  crew_aboard  number_of_deaths  passenger_fatalities  \\\n",
       "0                    1            1                 1                     1   \n",
       "\n",
       "   crew_fatalities  ...  year  decade  AM_PM crew_fatalities_decade  \\\n",
       "0                0  ...  1908       1     PM                     84   \n",
       "\n",
       "   crew_fatality_rate  total_accidents  passenger_fatalities_decade  \\\n",
       "0                 4.2               20                           99   \n",
       "\n",
       "   deaths_of_decade  passenger_fatality_rate  count  \n",
       "0               332                     4.95     20  \n",
       "\n",
       "[1 rows x 21 columns]"
      ]
     },
     "execution_count": 5,
     "metadata": {},
     "output_type": "execute_result"
    }
   ],
   "source": [
    "aa['passenger_fatality_rate'] = aa['passenger_fatalities_decade'] / aa['count']\n",
    "\n",
    "aa.head(1)"
   ]
  },
  {
   "cell_type": "markdown",
   "metadata": {},
   "source": [
    "CREACION DE LA COLUMNA DE TOTAL DE FALLECIDOS POR DECADA"
   ]
  },
  {
   "cell_type": "code",
   "execution_count": 138,
   "metadata": {},
   "outputs": [
    {
     "data": {
      "text/html": [
       "<div>\n",
       "<style scoped>\n",
       "    .dataframe tbody tr th:only-of-type {\n",
       "        vertical-align: middle;\n",
       "    }\n",
       "\n",
       "    .dataframe tbody tr th {\n",
       "        vertical-align: top;\n",
       "    }\n",
       "\n",
       "    .dataframe thead th {\n",
       "        text-align: right;\n",
       "    }\n",
       "</style>\n",
       "<table border=\"1\" class=\"dataframe\">\n",
       "  <thead>\n",
       "    <tr style=\"text-align: right;\">\n",
       "      <th></th>\n",
       "      <th>country</th>\n",
       "      <th>operator</th>\n",
       "      <th>route</th>\n",
       "      <th>aircraft</th>\n",
       "      <th>all_aboard</th>\n",
       "      <th>passengers_on_board</th>\n",
       "      <th>crew_aboard</th>\n",
       "      <th>number_of_deaths</th>\n",
       "      <th>passenger_fatalities</th>\n",
       "      <th>crew_fatalities</th>\n",
       "      <th>ground</th>\n",
       "      <th>year</th>\n",
       "      <th>decade</th>\n",
       "      <th>AM_PM</th>\n",
       "      <th>crew_fatalities_decade</th>\n",
       "      <th>crew_fatality_rate</th>\n",
       "      <th>count</th>\n",
       "      <th>passenger_fatalities_decade</th>\n",
       "      <th>deaths_of_decade</th>\n",
       "    </tr>\n",
       "  </thead>\n",
       "  <tbody>\n",
       "    <tr>\n",
       "      <th>0</th>\n",
       "      <td>EEUU</td>\n",
       "      <td>Military - U.S. Army</td>\n",
       "      <td>Demonstration</td>\n",
       "      <td>Others</td>\n",
       "      <td>2.0</td>\n",
       "      <td>1.0</td>\n",
       "      <td>1.0</td>\n",
       "      <td>1</td>\n",
       "      <td>1.0</td>\n",
       "      <td>0.0</td>\n",
       "      <td>0.0</td>\n",
       "      <td>1908</td>\n",
       "      <td>1</td>\n",
       "      <td>PM</td>\n",
       "      <td>84.0</td>\n",
       "      <td>0.238095</td>\n",
       "      <td>20</td>\n",
       "      <td>99.0</td>\n",
       "      <td>332</td>\n",
       "    </tr>\n",
       "    <tr>\n",
       "      <th>1</th>\n",
       "      <td>France</td>\n",
       "      <td>Sin_Dato</td>\n",
       "      <td>Air show</td>\n",
       "      <td>Others</td>\n",
       "      <td>1.0</td>\n",
       "      <td>0.0</td>\n",
       "      <td>1.0</td>\n",
       "      <td>1</td>\n",
       "      <td>0.0</td>\n",
       "      <td>0.0</td>\n",
       "      <td>0.0</td>\n",
       "      <td>1909</td>\n",
       "      <td>1</td>\n",
       "      <td>AM</td>\n",
       "      <td>84.0</td>\n",
       "      <td>0.238095</td>\n",
       "      <td>20</td>\n",
       "      <td>99.0</td>\n",
       "      <td>332</td>\n",
       "    </tr>\n",
       "  </tbody>\n",
       "</table>\n",
       "</div>"
      ],
      "text/plain": [
       "  country              operator          route aircraft  all_aboard  \\\n",
       "0    EEUU  Military - U.S. Army  Demonstration   Others         2.0   \n",
       "1  France              Sin_Dato       Air show   Others         1.0   \n",
       "\n",
       "   passengers_on_board  crew_aboard  number_of_deaths  passenger_fatalities  \\\n",
       "0                  1.0          1.0                 1                   1.0   \n",
       "1                  0.0          1.0                 1                   0.0   \n",
       "\n",
       "   crew_fatalities  ground  year  decade AM_PM  crew_fatalities_decade  \\\n",
       "0              0.0     0.0  1908       1    PM                    84.0   \n",
       "1              0.0     0.0  1909       1    AM                    84.0   \n",
       "\n",
       "   crew_fatality_rate  count  passenger_fatalities_decade  deaths_of_decade  \n",
       "0            0.238095     20                         99.0               332  \n",
       "1            0.238095     20                         99.0               332  "
      ]
     },
     "execution_count": 138,
     "metadata": {},
     "output_type": "execute_result"
    }
   ],
   "source": [
    "aa['deaths_of_decade'] = aa.groupby('decade')['number_of_deaths'].transform('sum')\n",
    "aa.head(2)"
   ]
  },
  {
   "cell_type": "code",
   "execution_count": 149,
   "metadata": {},
   "outputs": [
    {
     "data": {
      "text/html": [
       "<div>\n",
       "<style scoped>\n",
       "    .dataframe tbody tr th:only-of-type {\n",
       "        vertical-align: middle;\n",
       "    }\n",
       "\n",
       "    .dataframe tbody tr th {\n",
       "        vertical-align: top;\n",
       "    }\n",
       "\n",
       "    .dataframe thead th {\n",
       "        text-align: right;\n",
       "    }\n",
       "</style>\n",
       "<table border=\"1\" class=\"dataframe\">\n",
       "  <thead>\n",
       "    <tr style=\"text-align: right;\">\n",
       "      <th></th>\n",
       "      <th>country</th>\n",
       "      <th>operator</th>\n",
       "      <th>route</th>\n",
       "      <th>aircraft</th>\n",
       "      <th>all_aboard</th>\n",
       "      <th>passengers_on_board</th>\n",
       "      <th>crew_aboard</th>\n",
       "      <th>number_of_deaths</th>\n",
       "      <th>passenger_fatalities</th>\n",
       "      <th>crew_fatalities</th>\n",
       "      <th>ground</th>\n",
       "      <th>year</th>\n",
       "      <th>decade</th>\n",
       "      <th>AM_PM</th>\n",
       "      <th>crew_fatalities_decade</th>\n",
       "      <th>crew_fatality_rate</th>\n",
       "      <th>count</th>\n",
       "      <th>passenger_fatalities_decade</th>\n",
       "      <th>deaths_of_decade</th>\n",
       "    </tr>\n",
       "  </thead>\n",
       "  <tbody>\n",
       "    <tr>\n",
       "      <th>4991</th>\n",
       "      <td>Others</td>\n",
       "      <td>Military - Myanmar Air Force</td>\n",
       "      <td>Naypyidaw - Anisakan</td>\n",
       "      <td>Beechcraft 1900D</td>\n",
       "      <td>14.0</td>\n",
       "      <td>12.0</td>\n",
       "      <td>2.0</td>\n",
       "      <td>12</td>\n",
       "      <td>11.0</td>\n",
       "      <td>1.0</td>\n",
       "      <td>0.0</td>\n",
       "      <td>2021</td>\n",
       "      <td>12</td>\n",
       "      <td>AM</td>\n",
       "      <td>190.0</td>\n",
       "      <td>0.247368</td>\n",
       "      <td>47</td>\n",
       "      <td>1482.0</td>\n",
       "      <td>1712</td>\n",
       "    </tr>\n",
       "    <tr>\n",
       "      <th>4992</th>\n",
       "      <td>Russia</td>\n",
       "      <td>Others</td>\n",
       "      <td>Petropavlovsk - Palana</td>\n",
       "      <td>Antonov</td>\n",
       "      <td>28.0</td>\n",
       "      <td>22.0</td>\n",
       "      <td>6.0</td>\n",
       "      <td>28</td>\n",
       "      <td>22.0</td>\n",
       "      <td>6.0</td>\n",
       "      <td>0.0</td>\n",
       "      <td>2021</td>\n",
       "      <td>12</td>\n",
       "      <td>AM</td>\n",
       "      <td>190.0</td>\n",
       "      <td>0.247368</td>\n",
       "      <td>47</td>\n",
       "      <td>1482.0</td>\n",
       "      <td>1712</td>\n",
       "    </tr>\n",
       "  </tbody>\n",
       "</table>\n",
       "</div>"
      ],
      "text/plain": [
       "     country                      operator                   route  \\\n",
       "4991  Others  Military - Myanmar Air Force    Naypyidaw - Anisakan   \n",
       "4992  Russia                        Others  Petropavlovsk - Palana   \n",
       "\n",
       "              aircraft  all_aboard  passengers_on_board  crew_aboard  \\\n",
       "4991  Beechcraft 1900D        14.0                 12.0          2.0   \n",
       "4992           Antonov        28.0                 22.0          6.0   \n",
       "\n",
       "      number_of_deaths  passenger_fatalities  crew_fatalities  ground  year  \\\n",
       "4991                12                  11.0              1.0     0.0  2021   \n",
       "4992                28                  22.0              6.0     0.0  2021   \n",
       "\n",
       "      decade AM_PM  crew_fatalities_decade  crew_fatality_rate  count  \\\n",
       "4991      12    AM                   190.0            0.247368     47   \n",
       "4992      12    AM                   190.0            0.247368     47   \n",
       "\n",
       "      passenger_fatalities_decade  deaths_of_decade  \n",
       "4991                       1482.0              1712  \n",
       "4992                       1482.0              1712  "
      ]
     },
     "execution_count": 149,
     "metadata": {},
     "output_type": "execute_result"
    }
   ],
   "source": [
    "aa.tail(2)\n"
   ]
  },
  {
   "cell_type": "markdown",
   "metadata": {},
   "source": [
    "KPI PASAJERO"
   ]
  },
  {
   "cell_type": "code",
   "execution_count": 209,
   "metadata": {},
   "outputs": [],
   "source": [
    "aa['kpi_passenger'] = aa.groupby('decade')['passenger_fatality_rate'].pct_change() * 100"
   ]
  },
  {
   "cell_type": "markdown",
   "metadata": {},
   "source": [
    "KPI TRIPULACION"
   ]
  },
  {
   "cell_type": "code",
   "execution_count": 203,
   "metadata": {},
   "outputs": [],
   "source": [
    "aa['kpi_crew'] = aa['crew_fatality_rate'].pct_change() * 100"
   ]
  },
  {
   "cell_type": "markdown",
   "metadata": {},
   "source": [
    "TOTAL DE PERSONAS A BORDO"
   ]
  },
  {
   "cell_type": "code",
   "execution_count": 144,
   "metadata": {},
   "outputs": [
    {
     "data": {
      "text/plain": [
       "155328.0"
      ]
     },
     "execution_count": 144,
     "metadata": {},
     "output_type": "execute_result"
    }
   ],
   "source": [
    "aa['all_aboard'].sum()"
   ]
  },
  {
   "cell_type": "markdown",
   "metadata": {},
   "source": [
    "TOTAL DE PASAJEROS A BORDO"
   ]
  },
  {
   "cell_type": "code",
   "execution_count": 145,
   "metadata": {},
   "outputs": [
    {
     "data": {
      "text/plain": [
       "131112.0"
      ]
     },
     "execution_count": 145,
     "metadata": {},
     "output_type": "execute_result"
    }
   ],
   "source": [
    "aa['passengers_on_board'].sum()"
   ]
  },
  {
   "cell_type": "markdown",
   "metadata": {},
   "source": [
    "TOTAL DE PASAJEROS FALLECIDOS"
   ]
  },
  {
   "cell_type": "code",
   "execution_count": 147,
   "metadata": {},
   "outputs": [
    {
     "data": {
      "text/plain": [
       "91949.0"
      ]
     },
     "execution_count": 147,
     "metadata": {},
     "output_type": "execute_result"
    }
   ],
   "source": [
    "aa['passenger_fatalities'].sum()"
   ]
  },
  {
   "cell_type": "markdown",
   "metadata": {},
   "source": [
    "TOTAL DE TRIPULANTES A BORDO"
   ]
  },
  {
   "cell_type": "code",
   "execution_count": 146,
   "metadata": {},
   "outputs": [
    {
     "data": {
      "text/plain": [
       "22452.0"
      ]
     },
     "execution_count": 146,
     "metadata": {},
     "output_type": "execute_result"
    }
   ],
   "source": [
    "aa['crew_aboard'].sum()"
   ]
  },
  {
   "cell_type": "markdown",
   "metadata": {},
   "source": [
    "TOTAL DE TRIPULANTES FALLECIDOS"
   ]
  },
  {
   "cell_type": "code",
   "execution_count": 148,
   "metadata": {},
   "outputs": [
    {
     "data": {
      "text/plain": [
       "17781.0"
      ]
     },
     "execution_count": 148,
     "metadata": {},
     "output_type": "execute_result"
    }
   ],
   "source": [
    "aa['crew_fatalities'].sum()"
   ]
  },
  {
   "cell_type": "code",
   "execution_count": 164,
   "metadata": {},
   "outputs": [
    {
     "data": {
      "text/plain": [
       "111399"
      ]
     },
     "execution_count": 164,
     "metadata": {},
     "output_type": "execute_result"
    }
   ],
   "source": [
    "aa['number_of_deaths'].sum()"
   ]
  },
  {
   "cell_type": "code",
   "execution_count": 154,
   "metadata": {},
   "outputs": [],
   "source": [
    "aa.rename(columns={'count': 'total_accidents'}, inplace=True)"
   ]
  },
  {
   "cell_type": "code",
   "execution_count": 6,
   "metadata": {},
   "outputs": [],
   "source": [
    "aa.to_csv('aa.csv', index = False)"
   ]
  },
  {
   "cell_type": "code",
   "execution_count": 247,
   "metadata": {},
   "outputs": [
    {
     "data": {
      "text/html": [
       "<div>\n",
       "<style scoped>\n",
       "    .dataframe tbody tr th:only-of-type {\n",
       "        vertical-align: middle;\n",
       "    }\n",
       "\n",
       "    .dataframe tbody tr th {\n",
       "        vertical-align: top;\n",
       "    }\n",
       "\n",
       "    .dataframe thead th {\n",
       "        text-align: right;\n",
       "    }\n",
       "</style>\n",
       "<table border=\"1\" class=\"dataframe\">\n",
       "  <thead>\n",
       "    <tr style=\"text-align: right;\">\n",
       "      <th></th>\n",
       "      <th>country</th>\n",
       "      <th>operator</th>\n",
       "      <th>route</th>\n",
       "      <th>aircraft</th>\n",
       "      <th>all_aboard</th>\n",
       "      <th>passengers_on_board</th>\n",
       "      <th>crew_aboard</th>\n",
       "      <th>number_of_deaths</th>\n",
       "      <th>passenger_fatalities</th>\n",
       "      <th>crew_fatalities</th>\n",
       "      <th>ground</th>\n",
       "      <th>year</th>\n",
       "      <th>decade</th>\n",
       "      <th>AM_PM</th>\n",
       "      <th>crew_fatalities_decade</th>\n",
       "      <th>crew_fatality_rate</th>\n",
       "      <th>total_accidents</th>\n",
       "      <th>passenger_fatalities_decade</th>\n",
       "      <th>deaths_of_decade</th>\n",
       "      <th>passenger_fatality_rate</th>\n",
       "    </tr>\n",
       "  </thead>\n",
       "  <tbody>\n",
       "    <tr>\n",
       "      <th>4992</th>\n",
       "      <td>Russia</td>\n",
       "      <td>Others</td>\n",
       "      <td>Petropavlovsk - Palana</td>\n",
       "      <td>Antonov</td>\n",
       "      <td>28</td>\n",
       "      <td>22</td>\n",
       "      <td>6</td>\n",
       "      <td>28</td>\n",
       "      <td>22</td>\n",
       "      <td>6</td>\n",
       "      <td>0</td>\n",
       "      <td>2021</td>\n",
       "      <td>12</td>\n",
       "      <td>AM</td>\n",
       "      <td>190</td>\n",
       "      <td>0.25</td>\n",
       "      <td>47</td>\n",
       "      <td>1482</td>\n",
       "      <td>1712</td>\n",
       "      <td>0.03</td>\n",
       "    </tr>\n",
       "  </tbody>\n",
       "</table>\n",
       "</div>"
      ],
      "text/plain": [
       "     country operator                   route aircraft  all_aboard  \\\n",
       "4992  Russia   Others  Petropavlovsk - Palana  Antonov          28   \n",
       "\n",
       "      passengers_on_board  crew_aboard  number_of_deaths  \\\n",
       "4992                   22            6                28   \n",
       "\n",
       "      passenger_fatalities  crew_fatalities  ground  year  decade AM_PM  \\\n",
       "4992                    22                6       0  2021      12    AM   \n",
       "\n",
       "      crew_fatalities_decade  crew_fatality_rate  total_accidents  \\\n",
       "4992                     190                0.25               47   \n",
       "\n",
       "      passenger_fatalities_decade  deaths_of_decade  passenger_fatality_rate  \n",
       "4992                         1482              1712                     0.03  "
      ]
     },
     "execution_count": 247,
     "metadata": {},
     "output_type": "execute_result"
    }
   ],
   "source": [
    "aa = pd.read_csv('aa.csv')\n",
    "aa.tail(1)"
   ]
  },
  {
   "cell_type": "markdown",
   "metadata": {},
   "source": []
  },
  {
   "cell_type": "code",
   "execution_count": 210,
   "metadata": {},
   "outputs": [
    {
     "data": {
      "text/html": [
       "<div>\n",
       "<style scoped>\n",
       "    .dataframe tbody tr th:only-of-type {\n",
       "        vertical-align: middle;\n",
       "    }\n",
       "\n",
       "    .dataframe tbody tr th {\n",
       "        vertical-align: top;\n",
       "    }\n",
       "\n",
       "    .dataframe thead th {\n",
       "        text-align: right;\n",
       "    }\n",
       "</style>\n",
       "<table border=\"1\" class=\"dataframe\">\n",
       "  <thead>\n",
       "    <tr style=\"text-align: right;\">\n",
       "      <th></th>\n",
       "      <th>country</th>\n",
       "      <th>operator</th>\n",
       "      <th>route</th>\n",
       "      <th>aircraft</th>\n",
       "      <th>all_aboard</th>\n",
       "      <th>passengers_on_board</th>\n",
       "      <th>crew_aboard</th>\n",
       "      <th>number_of_deaths</th>\n",
       "      <th>passenger_fatalities</th>\n",
       "      <th>crew_fatalities</th>\n",
       "      <th>...</th>\n",
       "      <th>decade</th>\n",
       "      <th>AM_PM</th>\n",
       "      <th>crew_fatalities_decade</th>\n",
       "      <th>crew_fatality_rate</th>\n",
       "      <th>total_accidents</th>\n",
       "      <th>passenger_fatalities_decade</th>\n",
       "      <th>deaths_of_decade</th>\n",
       "      <th>passenger_fatality_rate</th>\n",
       "      <th>kpi_passenger</th>\n",
       "      <th>kpi_crew</th>\n",
       "    </tr>\n",
       "  </thead>\n",
       "  <tbody>\n",
       "    <tr>\n",
       "      <th>0</th>\n",
       "      <td>EEUU</td>\n",
       "      <td>Military - U.S. Army</td>\n",
       "      <td>Demonstration</td>\n",
       "      <td>Others</td>\n",
       "      <td>2.0</td>\n",
       "      <td>1.0</td>\n",
       "      <td>1.0</td>\n",
       "      <td>1</td>\n",
       "      <td>1.0</td>\n",
       "      <td>0.0</td>\n",
       "      <td>...</td>\n",
       "      <td>1</td>\n",
       "      <td>PM</td>\n",
       "      <td>84.0</td>\n",
       "      <td>0.24</td>\n",
       "      <td>20</td>\n",
       "      <td>99.0</td>\n",
       "      <td>332</td>\n",
       "      <td>0.2</td>\n",
       "      <td>NaN</td>\n",
       "      <td>NaN</td>\n",
       "    </tr>\n",
       "  </tbody>\n",
       "</table>\n",
       "<p>1 rows × 22 columns</p>\n",
       "</div>"
      ],
      "text/plain": [
       "  country              operator          route aircraft  all_aboard  \\\n",
       "0    EEUU  Military - U.S. Army  Demonstration   Others         2.0   \n",
       "\n",
       "   passengers_on_board  crew_aboard  number_of_deaths  passenger_fatalities  \\\n",
       "0                  1.0          1.0                 1                   1.0   \n",
       "\n",
       "   crew_fatalities  ...  decade  AM_PM  crew_fatalities_decade  \\\n",
       "0              0.0  ...       1     PM                    84.0   \n",
       "\n",
       "  crew_fatality_rate  total_accidents  passenger_fatalities_decade  \\\n",
       "0               0.24               20                         99.0   \n",
       "\n",
       "   deaths_of_decade  passenger_fatality_rate  kpi_passenger  kpi_crew  \n",
       "0               332                      0.2            NaN       NaN  \n",
       "\n",
       "[1 rows x 22 columns]"
      ]
     },
     "execution_count": 210,
     "metadata": {},
     "output_type": "execute_result"
    }
   ],
   "source": [
    "aa.head(1)"
   ]
  },
  {
   "cell_type": "code",
   "execution_count": 250,
   "metadata": {},
   "outputs": [
    {
     "data": {
      "text/html": [
       "<div>\n",
       "<style scoped>\n",
       "    .dataframe tbody tr th:only-of-type {\n",
       "        vertical-align: middle;\n",
       "    }\n",
       "\n",
       "    .dataframe tbody tr th {\n",
       "        vertical-align: top;\n",
       "    }\n",
       "\n",
       "    .dataframe thead th {\n",
       "        text-align: right;\n",
       "    }\n",
       "</style>\n",
       "<table border=\"1\" class=\"dataframe\">\n",
       "  <thead>\n",
       "    <tr style=\"text-align: right;\">\n",
       "      <th></th>\n",
       "      <th>country</th>\n",
       "      <th>operator</th>\n",
       "      <th>route</th>\n",
       "      <th>aircraft</th>\n",
       "      <th>all_aboard</th>\n",
       "      <th>passengers_on_board</th>\n",
       "      <th>crew_aboard</th>\n",
       "      <th>number_of_deaths</th>\n",
       "      <th>passenger_fatalities</th>\n",
       "      <th>crew_fatalities</th>\n",
       "      <th>ground</th>\n",
       "      <th>year</th>\n",
       "      <th>decade</th>\n",
       "      <th>AM_PM</th>\n",
       "      <th>crew_fatalities_decade</th>\n",
       "      <th>crew_fatality_rate</th>\n",
       "      <th>total_accidents</th>\n",
       "      <th>passenger_fatalities_decade</th>\n",
       "      <th>deaths_of_decade</th>\n",
       "      <th>passenger_fatality_rate</th>\n",
       "    </tr>\n",
       "  </thead>\n",
       "  <tbody>\n",
       "    <tr>\n",
       "      <th>4992</th>\n",
       "      <td>Russia</td>\n",
       "      <td>Others</td>\n",
       "      <td>Petropavlovsk - Palana</td>\n",
       "      <td>Antonov</td>\n",
       "      <td>28</td>\n",
       "      <td>22</td>\n",
       "      <td>6</td>\n",
       "      <td>28</td>\n",
       "      <td>22</td>\n",
       "      <td>6</td>\n",
       "      <td>0</td>\n",
       "      <td>2021</td>\n",
       "      <td>12</td>\n",
       "      <td>AM</td>\n",
       "      <td>190</td>\n",
       "      <td>0.25</td>\n",
       "      <td>47</td>\n",
       "      <td>1482</td>\n",
       "      <td>1712</td>\n",
       "      <td>0.03</td>\n",
       "    </tr>\n",
       "  </tbody>\n",
       "</table>\n",
       "</div>"
      ],
      "text/plain": [
       "     country operator                   route aircraft  all_aboard  \\\n",
       "4992  Russia   Others  Petropavlovsk - Palana  Antonov          28   \n",
       "\n",
       "      passengers_on_board  crew_aboard  number_of_deaths  \\\n",
       "4992                   22            6                28   \n",
       "\n",
       "      passenger_fatalities  crew_fatalities  ground  year  decade AM_PM  \\\n",
       "4992                    22                6       0  2021      12    AM   \n",
       "\n",
       "      crew_fatalities_decade  crew_fatality_rate  total_accidents  \\\n",
       "4992                     190                0.25               47   \n",
       "\n",
       "      passenger_fatalities_decade  deaths_of_decade  passenger_fatality_rate  \n",
       "4992                         1482              1712                     0.03  "
      ]
     },
     "execution_count": 250,
     "metadata": {},
     "output_type": "execute_result"
    }
   ],
   "source": [
    "aa.tail(1)"
   ]
  },
  {
   "cell_type": "code",
   "execution_count": 248,
   "metadata": {},
   "outputs": [
    {
     "name": "stdout",
     "output_type": "stream",
     "text": [
      "<class 'pandas.core.frame.DataFrame'>\n",
      "RangeIndex: 4993 entries, 0 to 4992\n",
      "Data columns (total 20 columns):\n",
      " #   Column                       Non-Null Count  Dtype  \n",
      "---  ------                       --------------  -----  \n",
      " 0   country                      4993 non-null   object \n",
      " 1   operator                     4993 non-null   object \n",
      " 2   route                        4993 non-null   object \n",
      " 3   aircraft                     4993 non-null   object \n",
      " 4   all_aboard                   4993 non-null   int64  \n",
      " 5   passengers_on_board          4993 non-null   int64  \n",
      " 6   crew_aboard                  4993 non-null   int64  \n",
      " 7   number_of_deaths             4993 non-null   int64  \n",
      " 8   passenger_fatalities         4993 non-null   int64  \n",
      " 9   crew_fatalities              4993 non-null   int64  \n",
      " 10  ground                       4993 non-null   int64  \n",
      " 11  year                         4993 non-null   int64  \n",
      " 12  decade                       4993 non-null   int64  \n",
      " 13  AM_PM                        4993 non-null   object \n",
      " 14  crew_fatalities_decade       4993 non-null   int64  \n",
      " 15  crew_fatality_rate           4993 non-null   float64\n",
      " 16  total_accidents              4993 non-null   int64  \n",
      " 17  passenger_fatalities_decade  4993 non-null   int64  \n",
      " 18  deaths_of_decade             4993 non-null   int64  \n",
      " 19  passenger_fatality_rate      4993 non-null   float64\n",
      "dtypes: float64(2), int64(13), object(5)\n",
      "memory usage: 780.3+ KB\n"
     ]
    }
   ],
   "source": [
    "aa.info()"
   ]
  },
  {
   "cell_type": "code",
   "execution_count": 244,
   "metadata": {},
   "outputs": [],
   "source": [
    "aa['passenger_fatalities_decade'] = aa['passenger_fatalities_decade'].astype(int)\n",
    "#aa['ground'] = aa['ground'].astype(int)"
   ]
  },
  {
   "cell_type": "code",
   "execution_count": null,
   "metadata": {},
   "outputs": [],
   "source": []
  }
 ],
 "metadata": {
  "kernelspec": {
   "display_name": "Python 3",
   "language": "python",
   "name": "python3"
  },
  "language_info": {
   "codemirror_mode": {
    "name": "ipython",
    "version": 3
   },
   "file_extension": ".py",
   "mimetype": "text/x-python",
   "name": "python",
   "nbconvert_exporter": "python",
   "pygments_lexer": "ipython3",
   "version": "3.11.5"
  }
 },
 "nbformat": 4,
 "nbformat_minor": 2
}
